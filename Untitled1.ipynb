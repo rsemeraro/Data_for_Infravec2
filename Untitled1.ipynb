{
 "cells": [
  {
   "cell_type": "code",
   "execution_count": 10,
   "metadata": {},
   "outputs": [],
   "source": [
    "from traitlets.config.manager import BaseJSONConfigManager\n",
    "path = \"/home/roberto/.jupyter/nbconfig\"\n",
    "cm = BaseJSONConfigManager(config_dir=path)"
   ]
  },
  {
   "cell_type": "code",
   "execution_count": 11,
   "metadata": {},
   "outputs": [
    {
     "data": {
      "text/plain": [
       "{'backimage': '/ext-HD1/roberto/Lesson_Infravec/lesson_background.png',\n",
       " 'footer': '<h3>Trainer: Roberto Semeraro, University of Florence Monday 24 - Friday 28 September 2018</h3>',\n",
       " 'header': '<h1>Shit</h1>'}"
      ]
     },
     "execution_count": 11,
     "metadata": {},
     "output_type": "execute_result"
    }
   ],
   "source": [
    "cm.update(\"livereveal\", {\n",
    "              \"backimage\": \"/ext-HD1/roberto/Lesson_Infravec/lesson_background.png\",\n",
    "              \"footer\": \"<h3>Trainer: Roberto Semeraro, University of Florence Monday 24 - Friday 28 September 2018</h3>\",\n",
    "              \"header\": \"<h1>Shit</h1>\",\n",
    "})"
   ]
  },
  {
   "cell_type": "markdown",
   "metadata": {},
   "source": [
    "# Hi"
   ]
  },
  {
   "cell_type": "code",
   "execution_count": null,
   "metadata": {},
   "outputs": [],
   "source": []
  }
 ],
 "metadata": {
  "kernelspec": {
   "display_name": "Python 3",
   "language": "python",
   "name": "python3"
  },
  "language_info": {
   "codemirror_mode": {
    "name": "ipython",
    "version": 3
   },
   "file_extension": ".py",
   "mimetype": "text/x-python",
   "name": "python",
   "nbconvert_exporter": "python",
   "pygments_lexer": "ipython3",
   "version": "3.6.8"
  }
 },
 "nbformat": 4,
 "nbformat_minor": 4
}
